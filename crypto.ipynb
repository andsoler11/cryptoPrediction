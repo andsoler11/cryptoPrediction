{
  "nbformat": 4,
  "nbformat_minor": 0,
  "metadata": {
    "colab": {
      "name": "crypto.ipynb",
      "provenance": [],
      "collapsed_sections": [],
      "authorship_tag": "ABX9TyNs1WW+jso3dmKgfhu/sfSu",
      "include_colab_link": true
    },
    "kernelspec": {
      "name": "python3",
      "display_name": "Python 3"
    },
    "language_info": {
      "name": "python"
    }
  },
  "cells": [
    {
      "cell_type": "markdown",
      "metadata": {
        "id": "view-in-github",
        "colab_type": "text"
      },
      "source": [
        "<a href=\"https://colab.research.google.com/github/andsoler11/cryptoPrediction/blob/master/crypto.ipynb\" target=\"_parent\"><img src=\"https://colab.research.google.com/assets/colab-badge.svg\" alt=\"Open In Colab\"/></a>"
      ]
    },
    {
      "cell_type": "code",
      "metadata": {
        "id": "bbm6_cGOlvnh"
      },
      "source": [
        "import pandas as pd\n",
        "import numpy as np\n",
        "\n",
        "import matplotlib.pyplot as plt\n",
        "\n",
        "import datetime\n",
        "\n",
        "from sklearn.model_selection import train_test_split\n",
        "from sklearn.ensemble import RandomForestRegressor\n",
        "\n",
        "import requests\n"
      ],
      "execution_count": null,
      "outputs": []
    },
    {
      "cell_type": "code",
      "metadata": {
        "id": "NQCb1HNCmG1q"
      },
      "source": [
        "market = 'SOLUSDT'\n",
        "tick_interval = '1h'"
      ],
      "execution_count": null,
      "outputs": []
    },
    {
      "cell_type": "code",
      "metadata": {
        "id": "bR6VU1U9mhGz"
      },
      "source": [
        "forest_depth = 500\n",
        "model = RandomForestRegressor(forest_depth)"
      ],
      "execution_count": null,
      "outputs": []
    },
    {
      "cell_type": "code",
      "metadata": {
        "id": "wM5mLlFemrbE"
      },
      "source": [
        "# altcoins adjustment\n",
        "alt_adjust = 1000000  # cardanobtc\n",
        "#alt_adjust = 10000  # vetbtc\n",
        "# alt_adjust = 1"
      ],
      "execution_count": null,
      "outputs": []
    },
    {
      "cell_type": "code",
      "metadata": {
        "id": "WwdoT4s8msrt"
      },
      "source": [
        "url_prices = 'https://api.binance.com/api/v1/klines?symbol='+market+'&interval='+tick_interval+'&limit='+str(1000)\n",
        "init_candles = requests.get(url_prices).json()"
      ],
      "execution_count": null,
      "outputs": []
    },
    {
      "cell_type": "code",
      "metadata": {
        "id": "Q6Ts4eOTm5lT"
      },
      "source": [
        "prediction_candles = 50\n",
        "time_window = 7\n",
        "shift_val = 1"
      ],
      "execution_count": null,
      "outputs": []
    },
    {
      "cell_type": "code",
      "metadata": {
        "id": "8sUfNzolm6gO"
      },
      "source": [
        "df = pd.DataFrame(columns=['open_time','open', 'high', 'low','close','volume','close_time','quote','trades','takers_buy_base','takers_buy_quote','ignore'])\n",
        "for i in range(len(init_candles)):\n",
        "    df.loc[i] = init_candles[i]\n",
        "df=df.drop(['ignore'],axis=1)\n",
        "df = df.astype(float)"
      ],
      "execution_count": null,
      "outputs": []
    },
    {
      "cell_type": "code",
      "metadata": {
        "colab": {
          "base_uri": "https://localhost:8080/",
          "height": 204
        },
        "id": "4csfL4ovnJCf",
        "outputId": "5b098f41-238b-409c-fd0e-0c53eecbb34e"
      },
      "source": [
        "df[['open_time','open', 'high', 'low','close']] = df[['open_time','open', 'high', 'low','close']]*alt_adjust\n",
        "df.tail(5)"
      ],
      "execution_count": null,
      "outputs": [
        {
          "output_type": "execute_result",
          "data": {
            "text/html": [
              "<div>\n",
              "<style scoped>\n",
              "    .dataframe tbody tr th:only-of-type {\n",
              "        vertical-align: middle;\n",
              "    }\n",
              "\n",
              "    .dataframe tbody tr th {\n",
              "        vertical-align: top;\n",
              "    }\n",
              "\n",
              "    .dataframe thead th {\n",
              "        text-align: right;\n",
              "    }\n",
              "</style>\n",
              "<table border=\"1\" class=\"dataframe\">\n",
              "  <thead>\n",
              "    <tr style=\"text-align: right;\">\n",
              "      <th></th>\n",
              "      <th>open_time</th>\n",
              "      <th>open</th>\n",
              "      <th>high</th>\n",
              "      <th>low</th>\n",
              "      <th>close</th>\n",
              "      <th>volume</th>\n",
              "      <th>close_time</th>\n",
              "      <th>quote</th>\n",
              "      <th>trades</th>\n",
              "      <th>takers_buy_base</th>\n",
              "      <th>takers_buy_quote</th>\n",
              "    </tr>\n",
              "  </thead>\n",
              "  <tbody>\n",
              "    <tr>\n",
              "      <th>995</th>\n",
              "      <td>1.635797e+18</td>\n",
              "      <td>204040000.0</td>\n",
              "      <td>206280000.0</td>\n",
              "      <td>201750000.0</td>\n",
              "      <td>202500000.0</td>\n",
              "      <td>134246.14</td>\n",
              "      <td>1.635800e+12</td>\n",
              "      <td>2.739149e+07</td>\n",
              "      <td>35575.0</td>\n",
              "      <td>67546.55</td>\n",
              "      <td>1.378248e+07</td>\n",
              "    </tr>\n",
              "    <tr>\n",
              "      <th>996</th>\n",
              "      <td>1.635800e+18</td>\n",
              "      <td>202510000.0</td>\n",
              "      <td>203220000.0</td>\n",
              "      <td>200800000.0</td>\n",
              "      <td>202690000.0</td>\n",
              "      <td>47934.70</td>\n",
              "      <td>1.635804e+12</td>\n",
              "      <td>9.680862e+06</td>\n",
              "      <td>15719.0</td>\n",
              "      <td>23678.76</td>\n",
              "      <td>4.783188e+06</td>\n",
              "    </tr>\n",
              "    <tr>\n",
              "      <th>997</th>\n",
              "      <td>1.635804e+18</td>\n",
              "      <td>202680000.0</td>\n",
              "      <td>204920000.0</td>\n",
              "      <td>202630000.0</td>\n",
              "      <td>203310000.0</td>\n",
              "      <td>40556.94</td>\n",
              "      <td>1.635808e+12</td>\n",
              "      <td>8.273311e+06</td>\n",
              "      <td>14580.0</td>\n",
              "      <td>20328.81</td>\n",
              "      <td>4.147871e+06</td>\n",
              "    </tr>\n",
              "    <tr>\n",
              "      <th>998</th>\n",
              "      <td>1.635808e+18</td>\n",
              "      <td>203320000.0</td>\n",
              "      <td>204320000.0</td>\n",
              "      <td>203000000.0</td>\n",
              "      <td>203900000.0</td>\n",
              "      <td>33134.04</td>\n",
              "      <td>1.635811e+12</td>\n",
              "      <td>6.748268e+06</td>\n",
              "      <td>9275.0</td>\n",
              "      <td>15341.78</td>\n",
              "      <td>3.124631e+06</td>\n",
              "    </tr>\n",
              "    <tr>\n",
              "      <th>999</th>\n",
              "      <td>1.635811e+18</td>\n",
              "      <td>203910000.0</td>\n",
              "      <td>204000000.0</td>\n",
              "      <td>203890000.0</td>\n",
              "      <td>203980000.0</td>\n",
              "      <td>506.86</td>\n",
              "      <td>1.635815e+12</td>\n",
              "      <td>1.033784e+05</td>\n",
              "      <td>272.0</td>\n",
              "      <td>343.24</td>\n",
              "      <td>7.000921e+04</td>\n",
              "    </tr>\n",
              "  </tbody>\n",
              "</table>\n",
              "</div>"
            ],
            "text/plain": [
              "        open_time         open  ...  takers_buy_base  takers_buy_quote\n",
              "995  1.635797e+18  204040000.0  ...         67546.55      1.378248e+07\n",
              "996  1.635800e+18  202510000.0  ...         23678.76      4.783188e+06\n",
              "997  1.635804e+18  202680000.0  ...         20328.81      4.147871e+06\n",
              "998  1.635808e+18  203320000.0  ...         15341.78      3.124631e+06\n",
              "999  1.635811e+18  203910000.0  ...           343.24      7.000921e+04\n",
              "\n",
              "[5 rows x 11 columns]"
            ]
          },
          "metadata": {},
          "execution_count": 220
        }
      ]
    },
    {
      "cell_type": "code",
      "metadata": {
        "id": "BbFcUQLTnMJh"
      },
      "source": [
        "df['close_time'] = pd.to_datetime(df['close_time'], unit='ms')\n",
        "df['close_time'] = df['close_time'].dt.tz_localize('utc').dt.tz_convert('America/Bogota')\n",
        "df = df.set_index('close_time')"
      ],
      "execution_count": null,
      "outputs": []
    },
    {
      "cell_type": "code",
      "metadata": {
        "colab": {
          "base_uri": "https://localhost:8080/",
          "height": 173
        },
        "id": "ff0Bnb1nnctZ",
        "outputId": "c252e6e2-19b5-4fb6-ed13-04679ccd6757"
      },
      "source": [
        "df.tail(3)"
      ],
      "execution_count": null,
      "outputs": [
        {
          "output_type": "execute_result",
          "data": {
            "text/html": [
              "<div>\n",
              "<style scoped>\n",
              "    .dataframe tbody tr th:only-of-type {\n",
              "        vertical-align: middle;\n",
              "    }\n",
              "\n",
              "    .dataframe tbody tr th {\n",
              "        vertical-align: top;\n",
              "    }\n",
              "\n",
              "    .dataframe thead th {\n",
              "        text-align: right;\n",
              "    }\n",
              "</style>\n",
              "<table border=\"1\" class=\"dataframe\">\n",
              "  <thead>\n",
              "    <tr style=\"text-align: right;\">\n",
              "      <th></th>\n",
              "      <th>open_time</th>\n",
              "      <th>open</th>\n",
              "      <th>high</th>\n",
              "      <th>low</th>\n",
              "      <th>close</th>\n",
              "      <th>volume</th>\n",
              "      <th>quote</th>\n",
              "      <th>trades</th>\n",
              "      <th>takers_buy_base</th>\n",
              "      <th>takers_buy_quote</th>\n",
              "    </tr>\n",
              "    <tr>\n",
              "      <th>close_time</th>\n",
              "      <th></th>\n",
              "      <th></th>\n",
              "      <th></th>\n",
              "      <th></th>\n",
              "      <th></th>\n",
              "      <th></th>\n",
              "      <th></th>\n",
              "      <th></th>\n",
              "      <th></th>\n",
              "      <th></th>\n",
              "    </tr>\n",
              "  </thead>\n",
              "  <tbody>\n",
              "    <tr>\n",
              "      <th>2021-11-01 17:59:59.999000-05:00</th>\n",
              "      <td>1.635804e+18</td>\n",
              "      <td>202680000.0</td>\n",
              "      <td>204920000.0</td>\n",
              "      <td>202630000.0</td>\n",
              "      <td>203310000.0</td>\n",
              "      <td>40556.94</td>\n",
              "      <td>8.273311e+06</td>\n",
              "      <td>14580.0</td>\n",
              "      <td>20328.81</td>\n",
              "      <td>4.147871e+06</td>\n",
              "    </tr>\n",
              "    <tr>\n",
              "      <th>2021-11-01 18:59:59.999000-05:00</th>\n",
              "      <td>1.635808e+18</td>\n",
              "      <td>203320000.0</td>\n",
              "      <td>204320000.0</td>\n",
              "      <td>203000000.0</td>\n",
              "      <td>203900000.0</td>\n",
              "      <td>33134.04</td>\n",
              "      <td>6.748268e+06</td>\n",
              "      <td>9275.0</td>\n",
              "      <td>15341.78</td>\n",
              "      <td>3.124631e+06</td>\n",
              "    </tr>\n",
              "    <tr>\n",
              "      <th>2021-11-01 19:59:59.999000-05:00</th>\n",
              "      <td>1.635811e+18</td>\n",
              "      <td>203910000.0</td>\n",
              "      <td>204000000.0</td>\n",
              "      <td>203890000.0</td>\n",
              "      <td>203980000.0</td>\n",
              "      <td>506.86</td>\n",
              "      <td>1.033784e+05</td>\n",
              "      <td>272.0</td>\n",
              "      <td>343.24</td>\n",
              "      <td>7.000921e+04</td>\n",
              "    </tr>\n",
              "  </tbody>\n",
              "</table>\n",
              "</div>"
            ],
            "text/plain": [
              "                                     open_time  ...  takers_buy_quote\n",
              "close_time                                      ...                  \n",
              "2021-11-01 17:59:59.999000-05:00  1.635804e+18  ...      4.147871e+06\n",
              "2021-11-01 18:59:59.999000-05:00  1.635808e+18  ...      3.124631e+06\n",
              "2021-11-01 19:59:59.999000-05:00  1.635811e+18  ...      7.000921e+04\n",
              "\n",
              "[3 rows x 10 columns]"
            ]
          },
          "metadata": {},
          "execution_count": 222
        }
      ]
    },
    {
      "cell_type": "code",
      "metadata": {
        "colab": {
          "base_uri": "https://localhost:8080/"
        },
        "id": "WPNSdUR3oS71",
        "outputId": "bedd02d4-c06e-42ac-ac1f-26c348508022"
      },
      "source": [
        "next_close_since_data = df[-1:].index\n",
        "next_close_since_data[0]"
      ],
      "execution_count": null,
      "outputs": [
        {
          "output_type": "execute_result",
          "data": {
            "text/plain": [
              "Timestamp('2021-11-01 19:59:59.999000-0500', tz='America/Bogota')"
            ]
          },
          "metadata": {},
          "execution_count": 223
        }
      ]
    },
    {
      "cell_type": "code",
      "metadata": {
        "colab": {
          "base_uri": "https://localhost:8080/"
        },
        "id": "Mdoh64OboXEf",
        "outputId": "8f96462b-16ba-4d67-b946-b29028ccf1db"
      },
      "source": [
        "df.iloc[-1:,:]['close'] = np.nan\n",
        "df.dropna(inplace=True) # last line is not real in binance because it is not closed yet"
      ],
      "execution_count": null,
      "outputs": [
        {
          "output_type": "stream",
          "name": "stderr",
          "text": [
            "/usr/local/lib/python3.7/dist-packages/ipykernel_launcher.py:1: SettingWithCopyWarning: \n",
            "A value is trying to be set on a copy of a slice from a DataFrame.\n",
            "Try using .loc[row_indexer,col_indexer] = value instead\n",
            "\n",
            "See the caveats in the documentation: https://pandas.pydata.org/pandas-docs/stable/user_guide/indexing.html#returning-a-view-versus-a-copy\n",
            "  \"\"\"Entry point for launching an IPython kernel.\n"
          ]
        }
      ]
    },
    {
      "cell_type": "code",
      "metadata": {
        "id": "uByJPNDRodg6"
      },
      "source": [
        "df['next_close'] = df['close'].shift(-shift_val)  # negative value... this is very important, negative means future value\n",
        "\n",
        "df = df[['open', 'high', 'low','close','volume', 'next_close']]\n",
        "\n",
        "#df = df[['open', 'high', 'low','close','volume', 'next_close', 'upperband', 'middleband', 'lowerband']]"
      ],
      "execution_count": null,
      "outputs": []
    },
    {
      "cell_type": "code",
      "metadata": {
        "colab": {
          "base_uri": "https://localhost:8080/"
        },
        "id": "tmW-K9Floo_g",
        "outputId": "491617de-09bb-4d7c-d394-6a6cc34b9d49"
      },
      "source": [
        "df.info()"
      ],
      "execution_count": null,
      "outputs": [
        {
          "output_type": "stream",
          "name": "stdout",
          "text": [
            "<class 'pandas.core.frame.DataFrame'>\n",
            "DatetimeIndex: 999 entries, 2021-09-21 02:59:59.999000-05:00 to 2021-11-01 18:59:59.999000-05:00\n",
            "Data columns (total 6 columns):\n",
            " #   Column      Non-Null Count  Dtype  \n",
            "---  ------      --------------  -----  \n",
            " 0   open        999 non-null    float64\n",
            " 1   high        999 non-null    float64\n",
            " 2   low         999 non-null    float64\n",
            " 3   close       999 non-null    float64\n",
            " 4   volume      999 non-null    float64\n",
            " 5   next_close  998 non-null    float64\n",
            "dtypes: float64(6)\n",
            "memory usage: 54.6 KB\n"
          ]
        }
      ]
    },
    {
      "cell_type": "code",
      "metadata": {
        "colab": {
          "base_uri": "https://localhost:8080/",
          "height": 235
        },
        "id": "dEy1Vm13otgq",
        "outputId": "7c2c0c2f-e4ab-4e77-e92a-3c9b30c8ef70"
      },
      "source": [
        "df.tail(5)"
      ],
      "execution_count": null,
      "outputs": [
        {
          "output_type": "execute_result",
          "data": {
            "text/html": [
              "<div>\n",
              "<style scoped>\n",
              "    .dataframe tbody tr th:only-of-type {\n",
              "        vertical-align: middle;\n",
              "    }\n",
              "\n",
              "    .dataframe tbody tr th {\n",
              "        vertical-align: top;\n",
              "    }\n",
              "\n",
              "    .dataframe thead th {\n",
              "        text-align: right;\n",
              "    }\n",
              "</style>\n",
              "<table border=\"1\" class=\"dataframe\">\n",
              "  <thead>\n",
              "    <tr style=\"text-align: right;\">\n",
              "      <th></th>\n",
              "      <th>open</th>\n",
              "      <th>high</th>\n",
              "      <th>low</th>\n",
              "      <th>close</th>\n",
              "      <th>volume</th>\n",
              "      <th>next_close</th>\n",
              "    </tr>\n",
              "    <tr>\n",
              "      <th>close_time</th>\n",
              "      <th></th>\n",
              "      <th></th>\n",
              "      <th></th>\n",
              "      <th></th>\n",
              "      <th></th>\n",
              "      <th></th>\n",
              "    </tr>\n",
              "  </thead>\n",
              "  <tbody>\n",
              "    <tr>\n",
              "      <th>2021-11-01 14:59:59.999000-05:00</th>\n",
              "      <td>199420000.0</td>\n",
              "      <td>204500000.0</td>\n",
              "      <td>199000000.0</td>\n",
              "      <td>204040000.0</td>\n",
              "      <td>105196.30</td>\n",
              "      <td>202500000.0</td>\n",
              "    </tr>\n",
              "    <tr>\n",
              "      <th>2021-11-01 15:59:59.999000-05:00</th>\n",
              "      <td>204040000.0</td>\n",
              "      <td>206280000.0</td>\n",
              "      <td>201750000.0</td>\n",
              "      <td>202500000.0</td>\n",
              "      <td>134246.14</td>\n",
              "      <td>202690000.0</td>\n",
              "    </tr>\n",
              "    <tr>\n",
              "      <th>2021-11-01 16:59:59.999000-05:00</th>\n",
              "      <td>202510000.0</td>\n",
              "      <td>203220000.0</td>\n",
              "      <td>200800000.0</td>\n",
              "      <td>202690000.0</td>\n",
              "      <td>47934.70</td>\n",
              "      <td>203310000.0</td>\n",
              "    </tr>\n",
              "    <tr>\n",
              "      <th>2021-11-01 17:59:59.999000-05:00</th>\n",
              "      <td>202680000.0</td>\n",
              "      <td>204920000.0</td>\n",
              "      <td>202630000.0</td>\n",
              "      <td>203310000.0</td>\n",
              "      <td>40556.94</td>\n",
              "      <td>203900000.0</td>\n",
              "    </tr>\n",
              "    <tr>\n",
              "      <th>2021-11-01 18:59:59.999000-05:00</th>\n",
              "      <td>203320000.0</td>\n",
              "      <td>204320000.0</td>\n",
              "      <td>203000000.0</td>\n",
              "      <td>203900000.0</td>\n",
              "      <td>33134.04</td>\n",
              "      <td>NaN</td>\n",
              "    </tr>\n",
              "  </tbody>\n",
              "</table>\n",
              "</div>"
            ],
            "text/plain": [
              "                                         open  ...   next_close\n",
              "close_time                                     ...             \n",
              "2021-11-01 14:59:59.999000-05:00  199420000.0  ...  202500000.0\n",
              "2021-11-01 15:59:59.999000-05:00  204040000.0  ...  202690000.0\n",
              "2021-11-01 16:59:59.999000-05:00  202510000.0  ...  203310000.0\n",
              "2021-11-01 17:59:59.999000-05:00  202680000.0  ...  203900000.0\n",
              "2021-11-01 18:59:59.999000-05:00  203320000.0  ...          NaN\n",
              "\n",
              "[5 rows x 6 columns]"
            ]
          },
          "metadata": {},
          "execution_count": 227
        }
      ]
    },
    {
      "cell_type": "code",
      "metadata": {
        "id": "R9ZBMXxmpF5V"
      },
      "source": [
        "def plotting(df, width=0.1):\n",
        "    \n",
        "    fig = plt.figure()\n",
        "    fig.set_size_inches((20, 8))  # figure size\n",
        "    \n",
        "    # sub-figures relative positions\n",
        "    ax_candle = fig.add_axes((0, 0.2, 1, 1))\n",
        "    ax_vol = fig.add_axes((0, 0, 1, 0.2), sharex=ax_candle)\n",
        "    \n",
        "    # x axis as date\n",
        "    ax_candle.xaxis_date()\n",
        "    \n",
        "    # close prices\n",
        "    ax_candle.plot(df['close'])\n",
        "    \n",
        "    # volume\n",
        "    ax_vol.bar(df.index, df[\"volume\"] / 1000, width=width)   \n",
        "    ax_vol.set_ylabel(\"BTC * 1000\")  # just for intuitive view\n",
        "    \n",
        "    # title and plot\n",
        "    ax_candle.set_title(market)\n",
        "    plt.grid()\n",
        "    plt.show()\n",
        "    return"
      ],
      "execution_count": null,
      "outputs": []
    },
    {
      "cell_type": "code",
      "metadata": {
        "colab": {
          "base_uri": "https://localhost:8080/",
          "height": 759
        },
        "id": "NfncRHhqpII3",
        "outputId": "8ed3bd0f-c03c-4453-9453-fe79b036b675"
      },
      "source": [
        "plotting(df, width=0.025)"
      ],
      "execution_count": null,
      "outputs": [
        {
          "output_type": "display_data",
          "data": {
            "image/png": "[encoded data removed]",
            "text/plain": [
              "<Figure size 1440x576 with 2 Axes>"
            ]
          },
          "metadata": {
            "needs_background": "light"
          }
        }
      ]
    },
    {
      "cell_type": "code",
      "metadata": {
        "id": "kXD_h8IhpJdT"
      },
      "source": [
        "\n",
        "def create_time_window(df, time_window):\n",
        "    df_cols = df.columns\n",
        "    for i in range(1,time_window): # for time_window days, this was set before\n",
        "        for col in df_cols:\n",
        "            df[f'{col}_'+str(i)] = df[col].shift(i)\n",
        "    return df\n",
        "\n",
        "historical_df = create_time_window(df, time_window)"
      ],
      "execution_count": null,
      "outputs": []
    },
    {
      "cell_type": "code",
      "metadata": {
        "id": "4uV8ON7mpXDa"
      },
      "source": [
        "test_last_closed_line=historical_df.iloc[-1:,:]  # last line for predciting"
      ],
      "execution_count": null,
      "outputs": []
    },
    {
      "cell_type": "code",
      "metadata": {
        "colab": {
          "base_uri": "https://localhost:8080/",
          "height": 165
        },
        "id": "_XUfa0n5pZb0",
        "outputId": "34ee221b-3225-422b-f329-cb67c1caafba"
      },
      "source": [
        "\n",
        "test_last_closed_line"
      ],
      "execution_count": null,
      "outputs": [
        {
          "output_type": "execute_result",
          "data": {
            "text/html": [
              "<div>\n",
              "<style scoped>\n",
              "    .dataframe tbody tr th:only-of-type {\n",
              "        vertical-align: middle;\n",
              "    }\n",
              "\n",
              "    .dataframe tbody tr th {\n",
              "        vertical-align: top;\n",
              "    }\n",
              "\n",
              "    .dataframe thead th {\n",
              "        text-align: right;\n",
              "    }\n",
              "</style>\n",
              "<table border=\"1\" class=\"dataframe\">\n",
              "  <thead>\n",
              "    <tr style=\"text-align: right;\">\n",
              "      <th></th>\n",
              "      <th>open</th>\n",
              "      <th>high</th>\n",
              "      <th>low</th>\n",
              "      <th>close</th>\n",
              "      <th>volume</th>\n",
              "      <th>next_close</th>\n",
              "      <th>open_1</th>\n",
              "      <th>high_1</th>\n",
              "      <th>low_1</th>\n",
              "      <th>close_1</th>\n",
              "      <th>volume_1</th>\n",
              "      <th>next_close_1</th>\n",
              "      <th>open_2</th>\n",
              "      <th>high_2</th>\n",
              "      <th>low_2</th>\n",
              "      <th>close_2</th>\n",
              "      <th>volume_2</th>\n",
              "      <th>next_close_2</th>\n",
              "      <th>open_3</th>\n",
              "      <th>high_3</th>\n",
              "      <th>low_3</th>\n",
              "      <th>close_3</th>\n",
              "      <th>volume_3</th>\n",
              "      <th>next_close_3</th>\n",
              "      <th>open_4</th>\n",
              "      <th>high_4</th>\n",
              "      <th>low_4</th>\n",
              "      <th>close_4</th>\n",
              "      <th>volume_4</th>\n",
              "      <th>next_close_4</th>\n",
              "      <th>open_5</th>\n",
              "      <th>high_5</th>\n",
              "      <th>low_5</th>\n",
              "      <th>close_5</th>\n",
              "      <th>volume_5</th>\n",
              "      <th>next_close_5</th>\n",
              "      <th>open_6</th>\n",
              "      <th>high_6</th>\n",
              "      <th>low_6</th>\n",
              "      <th>close_6</th>\n",
              "      <th>volume_6</th>\n",
              "      <th>next_close_6</th>\n",
              "    </tr>\n",
              "    <tr>\n",
              "      <th>close_time</th>\n",
              "      <th></th>\n",
              "      <th></th>\n",
              "      <th></th>\n",
              "      <th></th>\n",
              "      <th></th>\n",
              "      <th></th>\n",
              "      <th></th>\n",
              "      <th></th>\n",
              "      <th></th>\n",
              "      <th></th>\n",
              "      <th></th>\n",
              "      <th></th>\n",
              "      <th></th>\n",
              "      <th></th>\n",
              "      <th></th>\n",
              "      <th></th>\n",
              "      <th></th>\n",
              "      <th></th>\n",
              "      <th></th>\n",
              "      <th></th>\n",
              "      <th></th>\n",
              "      <th></th>\n",
              "      <th></th>\n",
              "      <th></th>\n",
              "      <th></th>\n",
              "      <th></th>\n",
              "      <th></th>\n",
              "      <th></th>\n",
              "      <th></th>\n",
              "      <th></th>\n",
              "      <th></th>\n",
              "      <th></th>\n",
              "      <th></th>\n",
              "      <th></th>\n",
              "      <th></th>\n",
              "      <th></th>\n",
              "      <th></th>\n",
              "      <th></th>\n",
              "      <th></th>\n",
              "      <th></th>\n",
              "      <th></th>\n",
              "      <th></th>\n",
              "    </tr>\n",
              "  </thead>\n",
              "  <tbody>\n",
              "    <tr>\n",
              "      <th>2021-11-01 18:59:59.999000-05:00</th>\n",
              "      <td>203320000.0</td>\n",
              "      <td>204320000.0</td>\n",
              "      <td>203000000.0</td>\n",
              "      <td>203900000.0</td>\n",
              "      <td>33134.04</td>\n",
              "      <td>NaN</td>\n",
              "      <td>202680000.0</td>\n",
              "      <td>204920000.0</td>\n",
              "      <td>202630000.0</td>\n",
              "      <td>203310000.0</td>\n",
              "      <td>40556.94</td>\n",
              "      <td>203900000.0</td>\n",
              "      <td>202510000.0</td>\n",
              "      <td>203220000.0</td>\n",
              "      <td>200800000.0</td>\n",
              "      <td>202690000.0</td>\n",
              "      <td>47934.7</td>\n",
              "      <td>203310000.0</td>\n",
              "      <td>204040000.0</td>\n",
              "      <td>206280000.0</td>\n",
              "      <td>201750000.0</td>\n",
              "      <td>202500000.0</td>\n",
              "      <td>134246.14</td>\n",
              "      <td>202690000.0</td>\n",
              "      <td>199420000.0</td>\n",
              "      <td>204500000.0</td>\n",
              "      <td>199000000.0</td>\n",
              "      <td>204040000.0</td>\n",
              "      <td>105196.3</td>\n",
              "      <td>202500000.0</td>\n",
              "      <td>201500000.0</td>\n",
              "      <td>201640000.0</td>\n",
              "      <td>199000000.0</td>\n",
              "      <td>199410000.0</td>\n",
              "      <td>102784.74</td>\n",
              "      <td>204040000.0</td>\n",
              "      <td>200600000.0</td>\n",
              "      <td>202490000.0</td>\n",
              "      <td>199680000.0</td>\n",
              "      <td>201540000.0</td>\n",
              "      <td>103533.54</td>\n",
              "      <td>199410000.0</td>\n",
              "    </tr>\n",
              "  </tbody>\n",
              "</table>\n",
              "</div>"
            ],
            "text/plain": [
              "                                         open  ...  next_close_6\n",
              "close_time                                     ...              \n",
              "2021-11-01 18:59:59.999000-05:00  203320000.0  ...   199410000.0\n",
              "\n",
              "[1 rows x 42 columns]"
            ]
          },
          "metadata": {},
          "execution_count": 232
        }
      ]
    },
    {
      "cell_type": "code",
      "metadata": {
        "colab": {
          "base_uri": "https://localhost:8080/",
          "height": 295
        },
        "id": "YG_2yypPpiZO",
        "outputId": "f32360b0-0b6a-4864-b7d2-5541e313d75d"
      },
      "source": [
        "historical_df.tail(3)"
      ],
      "execution_count": null,
      "outputs": [
        {
          "output_type": "execute_result",
          "data": {
            "text/html": [
              "<div>\n",
              "<style scoped>\n",
              "    .dataframe tbody tr th:only-of-type {\n",
              "        vertical-align: middle;\n",
              "    }\n",
              "\n",
              "    .dataframe tbody tr th {\n",
              "        vertical-align: top;\n",
              "    }\n",
              "\n",
              "    .dataframe thead th {\n",
              "        text-align: right;\n",
              "    }\n",
              "</style>\n",
              "<table border=\"1\" class=\"dataframe\">\n",
              "  <thead>\n",
              "    <tr style=\"text-align: right;\">\n",
              "      <th></th>\n",
              "      <th>open</th>\n",
              "      <th>high</th>\n",
              "      <th>low</th>\n",
              "      <th>close</th>\n",
              "      <th>volume</th>\n",
              "      <th>next_close</th>\n",
              "      <th>open_1</th>\n",
              "      <th>high_1</th>\n",
              "      <th>low_1</th>\n",
              "      <th>close_1</th>\n",
              "      <th>volume_1</th>\n",
              "      <th>next_close_1</th>\n",
              "      <th>open_2</th>\n",
              "      <th>high_2</th>\n",
              "      <th>low_2</th>\n",
              "      <th>close_2</th>\n",
              "      <th>volume_2</th>\n",
              "      <th>next_close_2</th>\n",
              "      <th>open_3</th>\n",
              "      <th>high_3</th>\n",
              "      <th>low_3</th>\n",
              "      <th>close_3</th>\n",
              "      <th>volume_3</th>\n",
              "      <th>next_close_3</th>\n",
              "      <th>open_4</th>\n",
              "      <th>high_4</th>\n",
              "      <th>low_4</th>\n",
              "      <th>close_4</th>\n",
              "      <th>volume_4</th>\n",
              "      <th>next_close_4</th>\n",
              "      <th>open_5</th>\n",
              "      <th>high_5</th>\n",
              "      <th>low_5</th>\n",
              "      <th>close_5</th>\n",
              "      <th>volume_5</th>\n",
              "      <th>next_close_5</th>\n",
              "      <th>open_6</th>\n",
              "      <th>high_6</th>\n",
              "      <th>low_6</th>\n",
              "      <th>close_6</th>\n",
              "      <th>volume_6</th>\n",
              "      <th>next_close_6</th>\n",
              "    </tr>\n",
              "    <tr>\n",
              "      <th>close_time</th>\n",
              "      <th></th>\n",
              "      <th></th>\n",
              "      <th></th>\n",
              "      <th></th>\n",
              "      <th></th>\n",
              "      <th></th>\n",
              "      <th></th>\n",
              "      <th></th>\n",
              "      <th></th>\n",
              "      <th></th>\n",
              "      <th></th>\n",
              "      <th></th>\n",
              "      <th></th>\n",
              "      <th></th>\n",
              "      <th></th>\n",
              "      <th></th>\n",
              "      <th></th>\n",
              "      <th></th>\n",
              "      <th></th>\n",
              "      <th></th>\n",
              "      <th></th>\n",
              "      <th></th>\n",
              "      <th></th>\n",
              "      <th></th>\n",
              "      <th></th>\n",
              "      <th></th>\n",
              "      <th></th>\n",
              "      <th></th>\n",
              "      <th></th>\n",
              "      <th></th>\n",
              "      <th></th>\n",
              "      <th></th>\n",
              "      <th></th>\n",
              "      <th></th>\n",
              "      <th></th>\n",
              "      <th></th>\n",
              "      <th></th>\n",
              "      <th></th>\n",
              "      <th></th>\n",
              "      <th></th>\n",
              "      <th></th>\n",
              "      <th></th>\n",
              "    </tr>\n",
              "  </thead>\n",
              "  <tbody>\n",
              "    <tr>\n",
              "      <th>2021-11-01 16:59:59.999000-05:00</th>\n",
              "      <td>202510000.0</td>\n",
              "      <td>203220000.0</td>\n",
              "      <td>200800000.0</td>\n",
              "      <td>202690000.0</td>\n",
              "      <td>47934.70</td>\n",
              "      <td>203310000.0</td>\n",
              "      <td>204040000.0</td>\n",
              "      <td>206280000.0</td>\n",
              "      <td>201750000.0</td>\n",
              "      <td>202500000.0</td>\n",
              "      <td>134246.14</td>\n",
              "      <td>202690000.0</td>\n",
              "      <td>199420000.0</td>\n",
              "      <td>204500000.0</td>\n",
              "      <td>199000000.0</td>\n",
              "      <td>204040000.0</td>\n",
              "      <td>105196.30</td>\n",
              "      <td>202500000.0</td>\n",
              "      <td>201500000.0</td>\n",
              "      <td>201640000.0</td>\n",
              "      <td>199000000.0</td>\n",
              "      <td>199410000.0</td>\n",
              "      <td>102784.74</td>\n",
              "      <td>204040000.0</td>\n",
              "      <td>200600000.0</td>\n",
              "      <td>202490000.0</td>\n",
              "      <td>199680000.0</td>\n",
              "      <td>201540000.0</td>\n",
              "      <td>103533.54</td>\n",
              "      <td>199410000.0</td>\n",
              "      <td>204050000.0</td>\n",
              "      <td>204310000.0</td>\n",
              "      <td>200530000.0</td>\n",
              "      <td>200570000.0</td>\n",
              "      <td>110725.21</td>\n",
              "      <td>201540000.0</td>\n",
              "      <td>202040000.0</td>\n",
              "      <td>204210000.0</td>\n",
              "      <td>201800000.0</td>\n",
              "      <td>204050000.0</td>\n",
              "      <td>91219.21</td>\n",
              "      <td>200570000.0</td>\n",
              "    </tr>\n",
              "    <tr>\n",
              "      <th>2021-11-01 17:59:59.999000-05:00</th>\n",
              "      <td>202680000.0</td>\n",
              "      <td>204920000.0</td>\n",
              "      <td>202630000.0</td>\n",
              "      <td>203310000.0</td>\n",
              "      <td>40556.94</td>\n",
              "      <td>203900000.0</td>\n",
              "      <td>202510000.0</td>\n",
              "      <td>203220000.0</td>\n",
              "      <td>200800000.0</td>\n",
              "      <td>202690000.0</td>\n",
              "      <td>47934.70</td>\n",
              "      <td>203310000.0</td>\n",
              "      <td>204040000.0</td>\n",
              "      <td>206280000.0</td>\n",
              "      <td>201750000.0</td>\n",
              "      <td>202500000.0</td>\n",
              "      <td>134246.14</td>\n",
              "      <td>202690000.0</td>\n",
              "      <td>199420000.0</td>\n",
              "      <td>204500000.0</td>\n",
              "      <td>199000000.0</td>\n",
              "      <td>204040000.0</td>\n",
              "      <td>105196.30</td>\n",
              "      <td>202500000.0</td>\n",
              "      <td>201500000.0</td>\n",
              "      <td>201640000.0</td>\n",
              "      <td>199000000.0</td>\n",
              "      <td>199410000.0</td>\n",
              "      <td>102784.74</td>\n",
              "      <td>204040000.0</td>\n",
              "      <td>200600000.0</td>\n",
              "      <td>202490000.0</td>\n",
              "      <td>199680000.0</td>\n",
              "      <td>201540000.0</td>\n",
              "      <td>103533.54</td>\n",
              "      <td>199410000.0</td>\n",
              "      <td>204050000.0</td>\n",
              "      <td>204310000.0</td>\n",
              "      <td>200530000.0</td>\n",
              "      <td>200570000.0</td>\n",
              "      <td>110725.21</td>\n",
              "      <td>201540000.0</td>\n",
              "    </tr>\n",
              "    <tr>\n",
              "      <th>2021-11-01 18:59:59.999000-05:00</th>\n",
              "      <td>203320000.0</td>\n",
              "      <td>204320000.0</td>\n",
              "      <td>203000000.0</td>\n",
              "      <td>203900000.0</td>\n",
              "      <td>33134.04</td>\n",
              "      <td>NaN</td>\n",
              "      <td>202680000.0</td>\n",
              "      <td>204920000.0</td>\n",
              "      <td>202630000.0</td>\n",
              "      <td>203310000.0</td>\n",
              "      <td>40556.94</td>\n",
              "      <td>203900000.0</td>\n",
              "      <td>202510000.0</td>\n",
              "      <td>203220000.0</td>\n",
              "      <td>200800000.0</td>\n",
              "      <td>202690000.0</td>\n",
              "      <td>47934.70</td>\n",
              "      <td>203310000.0</td>\n",
              "      <td>204040000.0</td>\n",
              "      <td>206280000.0</td>\n",
              "      <td>201750000.0</td>\n",
              "      <td>202500000.0</td>\n",
              "      <td>134246.14</td>\n",
              "      <td>202690000.0</td>\n",
              "      <td>199420000.0</td>\n",
              "      <td>204500000.0</td>\n",
              "      <td>199000000.0</td>\n",
              "      <td>204040000.0</td>\n",
              "      <td>105196.30</td>\n",
              "      <td>202500000.0</td>\n",
              "      <td>201500000.0</td>\n",
              "      <td>201640000.0</td>\n",
              "      <td>199000000.0</td>\n",
              "      <td>199410000.0</td>\n",
              "      <td>102784.74</td>\n",
              "      <td>204040000.0</td>\n",
              "      <td>200600000.0</td>\n",
              "      <td>202490000.0</td>\n",
              "      <td>199680000.0</td>\n",
              "      <td>201540000.0</td>\n",
              "      <td>103533.54</td>\n",
              "      <td>199410000.0</td>\n",
              "    </tr>\n",
              "  </tbody>\n",
              "</table>\n",
              "</div>"
            ],
            "text/plain": [
              "                                         open  ...  next_close_6\n",
              "close_time                                     ...              \n",
              "2021-11-01 16:59:59.999000-05:00  202510000.0  ...   200570000.0\n",
              "2021-11-01 17:59:59.999000-05:00  202680000.0  ...   201540000.0\n",
              "2021-11-01 18:59:59.999000-05:00  203320000.0  ...   199410000.0\n",
              "\n",
              "[3 rows x 42 columns]"
            ]
          },
          "metadata": {},
          "execution_count": 233
        }
      ]
    },
    {
      "cell_type": "code",
      "metadata": {
        "id": "5mwaKSiNpoJT"
      },
      "source": [
        "historical_df.dropna(inplace=True)"
      ],
      "execution_count": null,
      "outputs": []
    },
    {
      "cell_type": "code",
      "metadata": {
        "colab": {
          "base_uri": "https://localhost:8080/",
          "height": 425
        },
        "id": "EdefD1nwpqb_",
        "outputId": "06c6e981-5544-4de0-dfee-cc56720d1c36"
      },
      "source": [
        "\n",
        "historical_df.tail(5)"
      ],
      "execution_count": null,
      "outputs": [
        {
          "output_type": "execute_result",
          "data": {
            "text/html": [
              "<div>\n",
              "<style scoped>\n",
              "    .dataframe tbody tr th:only-of-type {\n",
              "        vertical-align: middle;\n",
              "    }\n",
              "\n",
              "    .dataframe tbody tr th {\n",
              "        vertical-align: top;\n",
              "    }\n",
              "\n",
              "    .dataframe thead th {\n",
              "        text-align: right;\n",
              "    }\n",
              "</style>\n",
              "<table border=\"1\" class=\"dataframe\">\n",
              "  <thead>\n",
              "    <tr style=\"text-align: right;\">\n",
              "      <th></th>\n",
              "      <th>open</th>\n",
              "      <th>high</th>\n",
              "      <th>low</th>\n",
              "      <th>close</th>\n",
              "      <th>volume</th>\n",
              "      <th>next_close</th>\n",
              "      <th>open_1</th>\n",
              "      <th>high_1</th>\n",
              "      <th>low_1</th>\n",
              "      <th>close_1</th>\n",
              "      <th>volume_1</th>\n",
              "      <th>next_close_1</th>\n",
              "      <th>open_2</th>\n",
              "      <th>high_2</th>\n",
              "      <th>low_2</th>\n",
              "      <th>close_2</th>\n",
              "      <th>volume_2</th>\n",
              "      <th>next_close_2</th>\n",
              "      <th>open_3</th>\n",
              "      <th>high_3</th>\n",
              "      <th>low_3</th>\n",
              "      <th>close_3</th>\n",
              "      <th>volume_3</th>\n",
              "      <th>next_close_3</th>\n",
              "      <th>open_4</th>\n",
              "      <th>high_4</th>\n",
              "      <th>low_4</th>\n",
              "      <th>close_4</th>\n",
              "      <th>volume_4</th>\n",
              "      <th>next_close_4</th>\n",
              "      <th>open_5</th>\n",
              "      <th>high_5</th>\n",
              "      <th>low_5</th>\n",
              "      <th>close_5</th>\n",
              "      <th>volume_5</th>\n",
              "      <th>next_close_5</th>\n",
              "      <th>open_6</th>\n",
              "      <th>high_6</th>\n",
              "      <th>low_6</th>\n",
              "      <th>close_6</th>\n",
              "      <th>volume_6</th>\n",
              "      <th>next_close_6</th>\n",
              "    </tr>\n",
              "    <tr>\n",
              "      <th>close_time</th>\n",
              "      <th></th>\n",
              "      <th></th>\n",
              "      <th></th>\n",
              "      <th></th>\n",
              "      <th></th>\n",
              "      <th></th>\n",
              "      <th></th>\n",
              "      <th></th>\n",
              "      <th></th>\n",
              "      <th></th>\n",
              "      <th></th>\n",
              "      <th></th>\n",
              "      <th></th>\n",
              "      <th></th>\n",
              "      <th></th>\n",
              "      <th></th>\n",
              "      <th></th>\n",
              "      <th></th>\n",
              "      <th></th>\n",
              "      <th></th>\n",
              "      <th></th>\n",
              "      <th></th>\n",
              "      <th></th>\n",
              "      <th></th>\n",
              "      <th></th>\n",
              "      <th></th>\n",
              "      <th></th>\n",
              "      <th></th>\n",
              "      <th></th>\n",
              "      <th></th>\n",
              "      <th></th>\n",
              "      <th></th>\n",
              "      <th></th>\n",
              "      <th></th>\n",
              "      <th></th>\n",
              "      <th></th>\n",
              "      <th></th>\n",
              "      <th></th>\n",
              "      <th></th>\n",
              "      <th></th>\n",
              "      <th></th>\n",
              "      <th></th>\n",
              "    </tr>\n",
              "  </thead>\n",
              "  <tbody>\n",
              "    <tr>\n",
              "      <th>2021-11-01 13:59:59.999000-05:00</th>\n",
              "      <td>201500000.0</td>\n",
              "      <td>201640000.0</td>\n",
              "      <td>199000000.0</td>\n",
              "      <td>199410000.0</td>\n",
              "      <td>102784.74</td>\n",
              "      <td>204040000.0</td>\n",
              "      <td>200600000.0</td>\n",
              "      <td>202490000.0</td>\n",
              "      <td>199680000.0</td>\n",
              "      <td>201540000.0</td>\n",
              "      <td>103533.54</td>\n",
              "      <td>199410000.0</td>\n",
              "      <td>204050000.0</td>\n",
              "      <td>204310000.0</td>\n",
              "      <td>200530000.0</td>\n",
              "      <td>200570000.0</td>\n",
              "      <td>110725.21</td>\n",
              "      <td>201540000.0</td>\n",
              "      <td>202040000.0</td>\n",
              "      <td>204210000.0</td>\n",
              "      <td>201800000.0</td>\n",
              "      <td>204050000.0</td>\n",
              "      <td>91219.21</td>\n",
              "      <td>200570000.0</td>\n",
              "      <td>203860000.0</td>\n",
              "      <td>204950000.0</td>\n",
              "      <td>200970000.0</td>\n",
              "      <td>202040000.0</td>\n",
              "      <td>167984.72</td>\n",
              "      <td>204050000.0</td>\n",
              "      <td>204200000.0</td>\n",
              "      <td>205690000.0</td>\n",
              "      <td>202860000.0</td>\n",
              "      <td>203870000.0</td>\n",
              "      <td>137605.49</td>\n",
              "      <td>202040000.0</td>\n",
              "      <td>204640000.0</td>\n",
              "      <td>206400000.0</td>\n",
              "      <td>203690000.0</td>\n",
              "      <td>204160000.0</td>\n",
              "      <td>115399.08</td>\n",
              "      <td>203870000.0</td>\n",
              "    </tr>\n",
              "    <tr>\n",
              "      <th>2021-11-01 14:59:59.999000-05:00</th>\n",
              "      <td>199420000.0</td>\n",
              "      <td>204500000.0</td>\n",
              "      <td>199000000.0</td>\n",
              "      <td>204040000.0</td>\n",
              "      <td>105196.30</td>\n",
              "      <td>202500000.0</td>\n",
              "      <td>201500000.0</td>\n",
              "      <td>201640000.0</td>\n",
              "      <td>199000000.0</td>\n",
              "      <td>199410000.0</td>\n",
              "      <td>102784.74</td>\n",
              "      <td>204040000.0</td>\n",
              "      <td>200600000.0</td>\n",
              "      <td>202490000.0</td>\n",
              "      <td>199680000.0</td>\n",
              "      <td>201540000.0</td>\n",
              "      <td>103533.54</td>\n",
              "      <td>199410000.0</td>\n",
              "      <td>204050000.0</td>\n",
              "      <td>204310000.0</td>\n",
              "      <td>200530000.0</td>\n",
              "      <td>200570000.0</td>\n",
              "      <td>110725.21</td>\n",
              "      <td>201540000.0</td>\n",
              "      <td>202040000.0</td>\n",
              "      <td>204210000.0</td>\n",
              "      <td>201800000.0</td>\n",
              "      <td>204050000.0</td>\n",
              "      <td>91219.21</td>\n",
              "      <td>200570000.0</td>\n",
              "      <td>203860000.0</td>\n",
              "      <td>204950000.0</td>\n",
              "      <td>200970000.0</td>\n",
              "      <td>202040000.0</td>\n",
              "      <td>167984.72</td>\n",
              "      <td>204050000.0</td>\n",
              "      <td>204200000.0</td>\n",
              "      <td>205690000.0</td>\n",
              "      <td>202860000.0</td>\n",
              "      <td>203870000.0</td>\n",
              "      <td>137605.49</td>\n",
              "      <td>202040000.0</td>\n",
              "    </tr>\n",
              "    <tr>\n",
              "      <th>2021-11-01 15:59:59.999000-05:00</th>\n",
              "      <td>204040000.0</td>\n",
              "      <td>206280000.0</td>\n",
              "      <td>201750000.0</td>\n",
              "      <td>202500000.0</td>\n",
              "      <td>134246.14</td>\n",
              "      <td>202690000.0</td>\n",
              "      <td>199420000.0</td>\n",
              "      <td>204500000.0</td>\n",
              "      <td>199000000.0</td>\n",
              "      <td>204040000.0</td>\n",
              "      <td>105196.30</td>\n",
              "      <td>202500000.0</td>\n",
              "      <td>201500000.0</td>\n",
              "      <td>201640000.0</td>\n",
              "      <td>199000000.0</td>\n",
              "      <td>199410000.0</td>\n",
              "      <td>102784.74</td>\n",
              "      <td>204040000.0</td>\n",
              "      <td>200600000.0</td>\n",
              "      <td>202490000.0</td>\n",
              "      <td>199680000.0</td>\n",
              "      <td>201540000.0</td>\n",
              "      <td>103533.54</td>\n",
              "      <td>199410000.0</td>\n",
              "      <td>204050000.0</td>\n",
              "      <td>204310000.0</td>\n",
              "      <td>200530000.0</td>\n",
              "      <td>200570000.0</td>\n",
              "      <td>110725.21</td>\n",
              "      <td>201540000.0</td>\n",
              "      <td>202040000.0</td>\n",
              "      <td>204210000.0</td>\n",
              "      <td>201800000.0</td>\n",
              "      <td>204050000.0</td>\n",
              "      <td>91219.21</td>\n",
              "      <td>200570000.0</td>\n",
              "      <td>203860000.0</td>\n",
              "      <td>204950000.0</td>\n",
              "      <td>200970000.0</td>\n",
              "      <td>202040000.0</td>\n",
              "      <td>167984.72</td>\n",
              "      <td>204050000.0</td>\n",
              "    </tr>\n",
              "    <tr>\n",
              "      <th>2021-11-01 16:59:59.999000-05:00</th>\n",
              "      <td>202510000.0</td>\n",
              "      <td>203220000.0</td>\n",
              "      <td>200800000.0</td>\n",
              "      <td>202690000.0</td>\n",
              "      <td>47934.70</td>\n",
              "      <td>203310000.0</td>\n",
              "      <td>204040000.0</td>\n",
              "      <td>206280000.0</td>\n",
              "      <td>201750000.0</td>\n",
              "      <td>202500000.0</td>\n",
              "      <td>134246.14</td>\n",
              "      <td>202690000.0</td>\n",
              "      <td>199420000.0</td>\n",
              "      <td>204500000.0</td>\n",
              "      <td>199000000.0</td>\n",
              "      <td>204040000.0</td>\n",
              "      <td>105196.30</td>\n",
              "      <td>202500000.0</td>\n",
              "      <td>201500000.0</td>\n",
              "      <td>201640000.0</td>\n",
              "      <td>199000000.0</td>\n",
              "      <td>199410000.0</td>\n",
              "      <td>102784.74</td>\n",
              "      <td>204040000.0</td>\n",
              "      <td>200600000.0</td>\n",
              "      <td>202490000.0</td>\n",
              "      <td>199680000.0</td>\n",
              "      <td>201540000.0</td>\n",
              "      <td>103533.54</td>\n",
              "      <td>199410000.0</td>\n",
              "      <td>204050000.0</td>\n",
              "      <td>204310000.0</td>\n",
              "      <td>200530000.0</td>\n",
              "      <td>200570000.0</td>\n",
              "      <td>110725.21</td>\n",
              "      <td>201540000.0</td>\n",
              "      <td>202040000.0</td>\n",
              "      <td>204210000.0</td>\n",
              "      <td>201800000.0</td>\n",
              "      <td>204050000.0</td>\n",
              "      <td>91219.21</td>\n",
              "      <td>200570000.0</td>\n",
              "    </tr>\n",
              "    <tr>\n",
              "      <th>2021-11-01 17:59:59.999000-05:00</th>\n",
              "      <td>202680000.0</td>\n",
              "      <td>204920000.0</td>\n",
              "      <td>202630000.0</td>\n",
              "      <td>203310000.0</td>\n",
              "      <td>40556.94</td>\n",
              "      <td>203900000.0</td>\n",
              "      <td>202510000.0</td>\n",
              "      <td>203220000.0</td>\n",
              "      <td>200800000.0</td>\n",
              "      <td>202690000.0</td>\n",
              "      <td>47934.70</td>\n",
              "      <td>203310000.0</td>\n",
              "      <td>204040000.0</td>\n",
              "      <td>206280000.0</td>\n",
              "      <td>201750000.0</td>\n",
              "      <td>202500000.0</td>\n",
              "      <td>134246.14</td>\n",
              "      <td>202690000.0</td>\n",
              "      <td>199420000.0</td>\n",
              "      <td>204500000.0</td>\n",
              "      <td>199000000.0</td>\n",
              "      <td>204040000.0</td>\n",
              "      <td>105196.30</td>\n",
              "      <td>202500000.0</td>\n",
              "      <td>201500000.0</td>\n",
              "      <td>201640000.0</td>\n",
              "      <td>199000000.0</td>\n",
              "      <td>199410000.0</td>\n",
              "      <td>102784.74</td>\n",
              "      <td>204040000.0</td>\n",
              "      <td>200600000.0</td>\n",
              "      <td>202490000.0</td>\n",
              "      <td>199680000.0</td>\n",
              "      <td>201540000.0</td>\n",
              "      <td>103533.54</td>\n",
              "      <td>199410000.0</td>\n",
              "      <td>204050000.0</td>\n",
              "      <td>204310000.0</td>\n",
              "      <td>200530000.0</td>\n",
              "      <td>200570000.0</td>\n",
              "      <td>110725.21</td>\n",
              "      <td>201540000.0</td>\n",
              "    </tr>\n",
              "  </tbody>\n",
              "</table>\n",
              "</div>"
            ],
            "text/plain": [
              "                                         open  ...  next_close_6\n",
              "close_time                                     ...              \n",
              "2021-11-01 13:59:59.999000-05:00  201500000.0  ...   203870000.0\n",
              "2021-11-01 14:59:59.999000-05:00  199420000.0  ...   202040000.0\n",
              "2021-11-01 15:59:59.999000-05:00  204040000.0  ...   204050000.0\n",
              "2021-11-01 16:59:59.999000-05:00  202510000.0  ...   200570000.0\n",
              "2021-11-01 17:59:59.999000-05:00  202680000.0  ...   201540000.0\n",
              "\n",
              "[5 rows x 42 columns]"
            ]
          },
          "metadata": {},
          "execution_count": 235
        }
      ]
    },
    {
      "cell_type": "code",
      "metadata": {
        "colab": {
          "base_uri": "https://localhost:8080/",
          "height": 165
        },
        "id": "OOVHB25npu3I",
        "outputId": "60fecfdd-878a-4e4a-d896-30953fd1cbe1"
      },
      "source": [
        "test_last_closed_line"
      ],
      "execution_count": null,
      "outputs": [
        {
          "output_type": "execute_result",
          "data": {
            "text/html": [
              "<div>\n",
              "<style scoped>\n",
              "    .dataframe tbody tr th:only-of-type {\n",
              "        vertical-align: middle;\n",
              "    }\n",
              "\n",
              "    .dataframe tbody tr th {\n",
              "        vertical-align: top;\n",
              "    }\n",
              "\n",
              "    .dataframe thead th {\n",
              "        text-align: right;\n",
              "    }\n",
              "</style>\n",
              "<table border=\"1\" class=\"dataframe\">\n",
              "  <thead>\n",
              "    <tr style=\"text-align: right;\">\n",
              "      <th></th>\n",
              "      <th>open</th>\n",
              "      <th>high</th>\n",
              "      <th>low</th>\n",
              "      <th>close</th>\n",
              "      <th>volume</th>\n",
              "      <th>next_close</th>\n",
              "      <th>open_1</th>\n",
              "      <th>high_1</th>\n",
              "      <th>low_1</th>\n",
              "      <th>close_1</th>\n",
              "      <th>volume_1</th>\n",
              "      <th>next_close_1</th>\n",
              "      <th>open_2</th>\n",
              "      <th>high_2</th>\n",
              "      <th>low_2</th>\n",
              "      <th>close_2</th>\n",
              "      <th>volume_2</th>\n",
              "      <th>next_close_2</th>\n",
              "      <th>open_3</th>\n",
              "      <th>high_3</th>\n",
              "      <th>low_3</th>\n",
              "      <th>close_3</th>\n",
              "      <th>volume_3</th>\n",
              "      <th>next_close_3</th>\n",
              "      <th>open_4</th>\n",
              "      <th>high_4</th>\n",
              "      <th>low_4</th>\n",
              "      <th>close_4</th>\n",
              "      <th>volume_4</th>\n",
              "      <th>next_close_4</th>\n",
              "      <th>open_5</th>\n",
              "      <th>high_5</th>\n",
              "      <th>low_5</th>\n",
              "      <th>close_5</th>\n",
              "      <th>volume_5</th>\n",
              "      <th>next_close_5</th>\n",
              "      <th>open_6</th>\n",
              "      <th>high_6</th>\n",
              "      <th>low_6</th>\n",
              "      <th>close_6</th>\n",
              "      <th>volume_6</th>\n",
              "      <th>next_close_6</th>\n",
              "    </tr>\n",
              "    <tr>\n",
              "      <th>close_time</th>\n",
              "      <th></th>\n",
              "      <th></th>\n",
              "      <th></th>\n",
              "      <th></th>\n",
              "      <th></th>\n",
              "      <th></th>\n",
              "      <th></th>\n",
              "      <th></th>\n",
              "      <th></th>\n",
              "      <th></th>\n",
              "      <th></th>\n",
              "      <th></th>\n",
              "      <th></th>\n",
              "      <th></th>\n",
              "      <th></th>\n",
              "      <th></th>\n",
              "      <th></th>\n",
              "      <th></th>\n",
              "      <th></th>\n",
              "      <th></th>\n",
              "      <th></th>\n",
              "      <th></th>\n",
              "      <th></th>\n",
              "      <th></th>\n",
              "      <th></th>\n",
              "      <th></th>\n",
              "      <th></th>\n",
              "      <th></th>\n",
              "      <th></th>\n",
              "      <th></th>\n",
              "      <th></th>\n",
              "      <th></th>\n",
              "      <th></th>\n",
              "      <th></th>\n",
              "      <th></th>\n",
              "      <th></th>\n",
              "      <th></th>\n",
              "      <th></th>\n",
              "      <th></th>\n",
              "      <th></th>\n",
              "      <th></th>\n",
              "      <th></th>\n",
              "    </tr>\n",
              "  </thead>\n",
              "  <tbody>\n",
              "    <tr>\n",
              "      <th>2021-11-01 18:59:59.999000-05:00</th>\n",
              "      <td>203320000.0</td>\n",
              "      <td>204320000.0</td>\n",
              "      <td>203000000.0</td>\n",
              "      <td>203900000.0</td>\n",
              "      <td>33134.04</td>\n",
              "      <td>NaN</td>\n",
              "      <td>202680000.0</td>\n",
              "      <td>204920000.0</td>\n",
              "      <td>202630000.0</td>\n",
              "      <td>203310000.0</td>\n",
              "      <td>40556.94</td>\n",
              "      <td>203900000.0</td>\n",
              "      <td>202510000.0</td>\n",
              "      <td>203220000.0</td>\n",
              "      <td>200800000.0</td>\n",
              "      <td>202690000.0</td>\n",
              "      <td>47934.7</td>\n",
              "      <td>203310000.0</td>\n",
              "      <td>204040000.0</td>\n",
              "      <td>206280000.0</td>\n",
              "      <td>201750000.0</td>\n",
              "      <td>202500000.0</td>\n",
              "      <td>134246.14</td>\n",
              "      <td>202690000.0</td>\n",
              "      <td>199420000.0</td>\n",
              "      <td>204500000.0</td>\n",
              "      <td>199000000.0</td>\n",
              "      <td>204040000.0</td>\n",
              "      <td>105196.3</td>\n",
              "      <td>202500000.0</td>\n",
              "      <td>201500000.0</td>\n",
              "      <td>201640000.0</td>\n",
              "      <td>199000000.0</td>\n",
              "      <td>199410000.0</td>\n",
              "      <td>102784.74</td>\n",
              "      <td>204040000.0</td>\n",
              "      <td>200600000.0</td>\n",
              "      <td>202490000.0</td>\n",
              "      <td>199680000.0</td>\n",
              "      <td>201540000.0</td>\n",
              "      <td>103533.54</td>\n",
              "      <td>199410000.0</td>\n",
              "    </tr>\n",
              "  </tbody>\n",
              "</table>\n",
              "</div>"
            ],
            "text/plain": [
              "                                         open  ...  next_close_6\n",
              "close_time                                     ...              \n",
              "2021-11-01 18:59:59.999000-05:00  203320000.0  ...   199410000.0\n",
              "\n",
              "[1 rows x 42 columns]"
            ]
          },
          "metadata": {},
          "execution_count": 236
        }
      ]
    },
    {
      "cell_type": "code",
      "metadata": {
        "id": "HKPr6RpXp2ik"
      },
      "source": [
        "X_train = historical_df.iloc[:-prediction_candles,:].drop('close', axis=1)\n",
        "X_test = historical_df.iloc[-prediction_candles:,:].drop('close', axis=1)\n",
        "y_train = historical_df.iloc[:-prediction_candles,:]['close'].values\n",
        "y_test = historical_df.iloc[-prediction_candles:,:]['close'].values"
      ],
      "execution_count": null,
      "outputs": []
    },
    {
      "cell_type": "code",
      "metadata": {
        "id": "-38jJ2bpp5mt"
      },
      "source": [
        "model.fit(X_train, y_train)\n",
        "pred = model.predict(X_test)"
      ],
      "execution_count": null,
      "outputs": []
    },
    {
      "cell_type": "code",
      "metadata": {
        "id": "jyWqG4HNqAWq"
      },
      "source": [
        "result_df = pd.DataFrame()\n",
        "result_df['real_next_close'] = y_test\n",
        "result_df['pred_next_close'] = pred\n",
        "\n",
        "result_df['error'] = result_df['real_next_close'] - result_df['pred_next_close']  # dollars error each prediction\n",
        "result_df['error_percent'] = (result_df['error']/result_df['real_next_close'])*100  # percent error each prediction\n",
        "\n",
        "result_df['time'] = historical_df.iloc[-prediction_candles:,:].index\n",
        "result_df = result_df.set_index('time')"
      ],
      "execution_count": null,
      "outputs": []
    },
    {
      "cell_type": "code",
      "metadata": {
        "colab": {
          "base_uri": "https://localhost:8080/"
        },
        "id": "Y7GbhCJCqDep",
        "outputId": "aaf144a2-fd94-40f7-ffbc-0164b7a7aa9f"
      },
      "source": [
        "result_df['error'].abs().mean()  # error in dollars mean"
      ],
      "execution_count": null,
      "outputs": [
        {
          "output_type": "execute_result",
          "data": {
            "text/plain": [
              "161673.6"
            ]
          },
          "metadata": {},
          "execution_count": 240
        }
      ]
    },
    {
      "cell_type": "code",
      "metadata": {
        "colab": {
          "base_uri": "https://localhost:8080/"
        },
        "id": "M6RGPSsvqOYE",
        "outputId": "c64657ca-663c-45f3-a582-02a62a64329e"
      },
      "source": [
        "result_df['error_percent'].abs().mean()  # percent error mean"
      ],
      "execution_count": null,
      "outputs": [
        {
          "output_type": "execute_result",
          "data": {
            "text/plain": [
              "0.08192300865457434"
            ]
          },
          "metadata": {},
          "execution_count": 241
        }
      ]
    },
    {
      "cell_type": "code",
      "metadata": {
        "colab": {
          "base_uri": "https://localhost:8080/",
          "height": 631
        },
        "id": "ESXVrUn_qQYJ",
        "outputId": "04115e1c-5fe2-4a1e-cd68-83acf093fdae"
      },
      "source": [
        "fig, axe = plt.subplots(figsize=(20,9))\n",
        "\n",
        "axe.plot(result_df.index, result_df['real_next_close'], color = 'blue', label = 'real_next_close')\n",
        "axe.plot(result_df.index, result_df['pred_next_close'], color = 'red', label = 'pred_next_close')\n",
        "\n",
        "plt.rcParams.update({'font.size': 22})\n",
        "\n",
        "fig.autofmt_xdate()\n",
        "plt.tight_layout()\n",
        "plt.legend()\n",
        "plt.grid()"
      ],
      "execution_count": null,
      "outputs": [
        {
          "output_type": "display_data",
          "data": {
            "image/png": "[encoded data removed]",
            "text/plain": [
              "<Figure size 1440x648 with 1 Axes>"
            ]
          },
          "metadata": {
            "needs_background": "light"
          }
        }
      ]
    },
    {
      "cell_type": "code",
      "metadata": {
        "colab": {
          "base_uri": "https://localhost:8080/",
          "height": 437
        },
        "id": "ewojsT08qa6u",
        "outputId": "57d14ce2-6f65-44f2-dca9-ec22e93371b0"
      },
      "source": [
        "fig, axe = plt.subplots(figsize=(20,6))\n",
        "\n",
        "result_df['tolerancia+'] = 2\n",
        "result_df['tolerancia-'] = -2\n",
        "\n",
        "axe.plot(result_df.index, result_df['error_percent'], color = 'green', label = 'error_percent')\n",
        "\n",
        "axe.plot(result_df.index[-prediction_candles:], result_df.iloc[-prediction_candles:]['tolerancia+'], color = 'red', label = 'tolerancia')\n",
        "axe.plot(result_df.index[-prediction_candles:], result_df.iloc[-prediction_candles:]['tolerancia-'], color = 'red', label = 'tolerancia')\n",
        "\n",
        "plt.rcParams.update({'font.size': 12})\n",
        "\n",
        "fig.autofmt_xdate()\n",
        "plt.tight_layout()\n",
        "plt.legend()\n",
        "plt.grid()\n",
        "plt.show()"
      ],
      "execution_count": null,
      "outputs": [
        {
          "output_type": "display_data",
          "data": {
            "image/png": "[encoded data removed]",
            "text/plain": [
              "<Figure size 1440x432 with 1 Axes>"
            ]
          },
          "metadata": {
            "needs_background": "light"
          }
        }
      ]
    },
    {
      "cell_type": "code",
      "metadata": {
        "id": "9Um2YGxzqdBn"
      },
      "source": [
        "test_last_closed_line = test_last_closed_line.drop(['next_close'], axis=1)\n",
        "pred_future = model.predict(test_last_closed_line)"
      ],
      "execution_count": null,
      "outputs": []
    },
    {
      "cell_type": "code",
      "metadata": {
        "colab": {
          "base_uri": "https://localhost:8080/"
        },
        "id": "Y8YVGDjTqhGQ",
        "outputId": "003628cc-b0be-47f9-dbb8-89bf18716790"
      },
      "source": [
        "\n",
        "pred_future"
      ],
      "execution_count": null,
      "outputs": [
        {
          "output_type": "execute_result",
          "data": {
            "text/plain": [
              "array([2.039371e+08])"
            ]
          },
          "metadata": {},
          "execution_count": 245
        }
      ]
    },
    {
      "cell_type": "code",
      "metadata": {
        "colab": {
          "base_uri": "https://localhost:8080/",
          "height": 35
        },
        "id": "pFJ8VJs9qkQw",
        "outputId": "a47d75ae-0956-4117-89fe-0a23fd8596ff"
      },
      "source": [
        "'%f' % (pred_future/alt_adjust) # predicted price"
      ],
      "execution_count": null,
      "outputs": [
        {
          "output_type": "execute_result",
          "data": {
            "application/vnd.google.colaboratory.intrinsic+json": {
              "type": "string"
            },
            "text/plain": [
              "'203.937100'"
            ]
          },
          "metadata": {},
          "execution_count": 246
        }
      ]
    },
    {
      "cell_type": "code",
      "metadata": {
        "colab": {
          "base_uri": "https://localhost:8080/"
        },
        "id": "dL_4JAetqoIH",
        "outputId": "c59167e7-0ef5-4dba-efa8-34b9683748ee"
      },
      "source": [
        "time = test_last_closed_line.index[0]\n",
        "delta = datetime.timedelta(hours=1) \n",
        "time+delta"
      ],
      "execution_count": null,
      "outputs": [
        {
          "output_type": "execute_result",
          "data": {
            "text/plain": [
              "Timestamp('2021-11-01 19:59:59.999000-0500', tz='America/Bogota')"
            ]
          },
          "metadata": {},
          "execution_count": 247
        }
      ]
    },
    {
      "cell_type": "code",
      "metadata": {
        "id": "Q7nU3uC6qpX8"
      },
      "source": [
        "\n",
        "url_current_price = 'https://api.binance.com/api/v3/ticker/price?symbol=' + market\n",
        "current_price = float(requests.get(url_current_price).json()['price'])"
      ],
      "execution_count": null,
      "outputs": []
    },
    {
      "cell_type": "code",
      "metadata": {
        "colab": {
          "base_uri": "https://localhost:8080/"
        },
        "id": "VMddwqLwqtOR",
        "outputId": "23c6ef6c-7f6e-44dc-f32c-49da5a487714"
      },
      "source": [
        "current_price*alt_adjust, pred_future"
      ],
      "execution_count": null,
      "outputs": [
        {
          "output_type": "execute_result",
          "data": {
            "text/plain": [
              "(203000000.0, array([2.039371e+08]))"
            ]
          },
          "metadata": {},
          "execution_count": 249
        }
      ]
    },
    {
      "cell_type": "code",
      "metadata": {
        "colab": {
          "base_uri": "https://localhost:8080/"
        },
        "id": "miptDGabqwco",
        "outputId": "037f68a2-4896-465e-c90e-9957499ede75"
      },
      "source": [
        "current_price"
      ],
      "execution_count": null,
      "outputs": [
        {
          "output_type": "execute_result",
          "data": {
            "text/plain": [
              "203.0"
            ]
          },
          "metadata": {},
          "execution_count": 250
        }
      ]
    },
    {
      "cell_type": "code",
      "metadata": {
        "id": "Bxf4cAGO9FPg",
        "colab": {
          "base_uri": "https://localhost:8080/",
          "height": 35
        },
        "outputId": "07ca8cf3-257f-4b0e-b0fb-fc9cd45bbeef"
      },
      "source": [
        "'%f' % (pred_future/alt_adjust)"
      ],
      "execution_count": null,
      "outputs": [
        {
          "output_type": "execute_result",
          "data": {
            "application/vnd.google.colaboratory.intrinsic+json": {
              "type": "string"
            },
            "text/plain": [
              "'203.937100'"
            ]
          },
          "metadata": {},
          "execution_count": 252
        }
      ]
    }
  ]
}